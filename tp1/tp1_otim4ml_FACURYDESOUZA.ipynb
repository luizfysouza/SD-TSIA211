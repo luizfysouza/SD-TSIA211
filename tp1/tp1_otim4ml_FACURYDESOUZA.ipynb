{
 "cells": [
  {
   "attachments": {},
   "cell_type": "markdown",
   "metadata": {},
   "source": [
    "Stundents\n",
    "\n",
    "Leonel Mota Sampaio Durão\n",
    "\n",
    "Luiz Augusto Facury de Souza"
   ]
  },
  {
   "attachments": {},
   "cell_type": "markdown",
   "metadata": {},
   "source": [
    "# Question 3.1\n",
    "\n",
    "$f_1:(w_0, w) \\longmapsto \\frac{1}{n}  \\sum_{i=1}^{n} log(1+ e^{-y_i(x_i^Tw + w_0)}) + \\frac{\\rho}{2}||w||_2^2$\n",
    "\n",
    "Being $z = y_i(x_i^Tw + w_0)$, we have $\\frac{\\partial z}{w_0} = y_i$ and $\\frac{\\partial z} {w} = y_i x_i^T $\n",
    "\n",
    "$ f_1 = \\frac{1}{n}  \\sum_{i=1}^{n} log(1+ e^{-z}) + \\frac{\\rho}{2}||w||_2^2 $\n",
    "\n",
    "The Gradient is defined by: $\\nabla f_1$ = $\\begin{bmatrix} \\frac{\\partial f_1}{\\partial w_0} \\\\ \\frac{\\partial f_1}{\\partial w} \\end{bmatrix}$ and $\\sigma (z) = \\frac {1}{1+e^z}  $\n",
    "\n",
    "$\\frac{\\partial f_1}{\\partial w_0} = \\frac{1}{n}  \\sum_{i=1}^{n} \\frac{-y_i e^{-z}}{1+ e^{-z}} = \\frac{1}{n}  \\sum_{i=1}^{n} -y_i e^{-z} \\sigma(z)$\n",
    "\n",
    "$\\frac{\\partial f_1}{\\partial w} = \\frac{1}{n}  \\sum_{i=1}^{n} \\frac{-y_i x_i^T e^{-z}}{1+ e^{-z}} + \\rho w = \\frac{1}{n}  \\sum_{i=1}^{n} -y_i x_i^T e^{-z} \\sigma(z) + \\rho w$\n",
    "\n",
    "Calculating the Hessian\n",
    "\n",
    "Quotient rule: $\\frac{d}{dx} \\frac{f(x)}{g(x)} = \\frac{f'(x)g(x) - f(x)g'(x)}{g(x)^2}$\n",
    "\n",
    "\n",
    "\n",
    "$\\nabla^2 f_1$ = $\\begin{bmatrix} \\frac{\\partial^2 f_1}{\\partial w_0^2} & \\frac{\\partial^2 f_1}{\\partial w_0 \\partial w} \\\\ \\frac{\\partial^2 f_1}{\\partial w \\partial w_0} & \\frac{\\partial^2 f_1}{\\partial w^2} \\end{bmatrix}$\n",
    "\n",
    "$\\frac{\\partial^2 f_1}{\\partial w_0^2} = \\frac{1}{n} \\sum_{i=1}^{n} \\frac{(y_i^2 e^{-z})(1 + e^{-z}) - (-y_i e^{-z}) (-y_i e^{-z})}{(1+ e^{-z})^2}      =     \\frac{1}{n} \\sum_{i=1}^{n} \\frac{y_i^2 e^{-z} + y_i^2 e^{-2z} - y_i^2 e^{-2z}}{(1+ e^{-z})^2}    =   \\frac{1}{n} \\sum_{i=1}^{n} \\frac{y_i^2 e^{-z}}{(1+ e^{-z})^2} $\n",
    "\n",
    "$\\frac{\\partial^2 f_1}{\\partial w_0 \\partial w} = \\frac{1}{n} \\sum_{i=1}^{n} \\frac{y_i^2 x_i^T e^{-z}}{(1+ e^{-z})^2}$\n",
    "\n",
    "$\\frac{\\partial^2 f_1}{\\partial w \\partial w_0} = \\frac{1}{n} \\sum_{i=1}^{n} \\frac{y_i^2 x_i^T e^{-z}}{(1+ e^{-z})^2}$\n",
    "\n",
    "$\\frac{\\partial^2 f_1}{\\partial w^2} = \\frac{1}{n} \\sum_{i=1}^{n} \\frac{y_i^2 (x_i^T)^2 e^{-z}}{(1+ e^{-z})^2} + \\rho I$\n",
    "\n",
    "Determinant of Hessian\n",
    "\n",
    "$det(\\nabla^2 f_1) = \\frac{1}{n^2} \\sum_{i=1}^{n} \\frac{y_i^2 e^{-z}}{(1+ e^{-z})^2} * (\\frac{1}{n} \\sum_{i=1}^{n} \\frac{y_i^2 (x_i^T)^2 e^{-z}}{(1+ e^{-z})^2} + \\rho) - (\\frac{1}{n^2} \\sum_{i=1}^{n} \\frac{y_i^2 x_i^T e^{-z}}{(1+ e^{-z})^2})^2$\n",
    "\n",
    "Therefore, the function is convex, since its determinant is strictly positive"
   ]
  },
  {
   "attachments": {},
   "cell_type": "markdown",
   "metadata": {},
   "source": [
    "# Question 3.2"
   ]
  },
  {
   "cell_type": "code",
   "execution_count": 110,
   "metadata": {},
   "outputs": [],
   "source": [
    "import numpy as np\n",
    "\n",
    "def f1(w0, w, X, y, rho):\n",
    "    # Calculate the dot product of X and w\n",
    "    dot_product = np.dot(X, w)\n",
    "    # Calculate w0 + dot_product\n",
    "    w0_dot = w0 + dot_product\n",
    "    # Calculate -y_i*(w0_dot)\n",
    "    y_w0_dot = -y * w0_dot\n",
    "    # Calculate log(1 + e^(y_w0_dot))\n",
    "    log_term = np.log(1 + np.exp(y_w0_dot))\n",
    "    # Calculate the sum of log_term\n",
    "    sum_log_term = np.sum(log_term)\n",
    "    # Calculate the first term of the function\n",
    "    first_term = sum_log_term\n",
    "    # Calculate the second term of the function\n",
    "    second_term = (rho/2) * np.dot(w, w)\n",
    "    # Return the sum of the two terms\n",
    "    return first_term + second_term\n"
   ]
  },
  {
   "cell_type": "code",
   "execution_count": 258,
   "metadata": {},
   "outputs": [],
   "source": [
    "import numpy as np\n",
    "\n",
    "def grad_f1(w_0, w, X, y, rho):\n",
    "    print (y)\n",
    "    n = len(y)\n",
    "    z = y * (X.dot(w) + w_0)\n",
    "    sig = 1 / (1 + np.exp(-z))\n",
    "    grad_w_0 = -1/n * (y * np.exp(-z) * sig).sum()\n",
    "    grad_w = -1/n * (X.T.dot(y * np.exp(-z) * sig)) + rho * w\n",
    "    return grad_w_0, grad_w\n"
   ]
  },
  {
   "cell_type": "code",
   "execution_count": 244,
   "metadata": {},
   "outputs": [
    {
     "name": "stdout",
     "output_type": "stream",
     "text": [
      "Gradient wrt w_0: 0.5284756798647275\n",
      "Gradient wrt w: 2.602990013593906\n"
     ]
    }
   ],
   "source": [
    "# Sample input data\n",
    "X = np.array([1,2,3,4,5,6,7]) # (3, 3)\n",
    "y = np.array([1, -1, 1,1,-2,-1,1]) # (3,)\n",
    "w_0 = 0.5\n",
    "w = 1 # (3,)\n",
    "rho = 0.1\n",
    "\n",
    "# Compute the gradient\n",
    "grad_w_0, grad_w = grad_f1(w_0, w, X, y, rho)\n",
    "\n",
    "print(\"Gradient wrt w_0:\", grad_w_0)\n",
    "print(\"Gradient wrt w:\", grad_w)\n"
   ]
  },
  {
   "cell_type": "code",
   "execution_count": 102,
   "metadata": {},
   "outputs": [],
   "source": [
    "def hessian_logreg_l2_1D(X, y, w, w_0, rho):\n",
    "    n = len(y)\n",
    "    z = y * (X*w + w_0)\n",
    "    sig = 1 / (1 + np.exp(-z))\n",
    "    diag_sig = np.diag(sig * (1 - sig))\n",
    "    Hessian_w_0_w_0 = 1/n * ((y**2) * sig * (1 - sig)).sum()\n",
    "    Hessian_w_0_w = 1/n * (y * X.T.dot(diag_sig))\n",
    "    Hessian_w_w_0 = 1/n * (y * X.T.dot(diag_sig))\n",
    "    Hessian_w_w = 1/n * X.T.dot(X * diag_sig) + rho * np.eye(1)\n",
    "    return np.array([[Hessian_w_0_w_0, Hessian_w_0_w[0]], [Hessian_w_w_0[0], Hessian_w_w[0][0]]])\n"
   ]
  },
  {
   "cell_type": "code",
   "execution_count": 245,
   "metadata": {},
   "outputs": [
    {
     "name": "stdout",
     "output_type": "stream",
     "text": [
      "Hessian: \n",
      " [[0.03724109 0.02130664]\n",
      " [0.02130664 0.12130664]]\n"
     ]
    }
   ],
   "source": [
    "# Compute the Hessian\n",
    "hessian = hessian_logreg_l2_1D(X, y, w, w_0, rho)\n",
    "\n",
    "print(\"Hessian: \\n\", hessian)"
   ]
  },
  {
   "cell_type": "code",
   "execution_count": 194,
   "metadata": {},
   "outputs": [
    {
     "data": {
      "text/plain": [
       "array([138562,    575])"
      ]
     },
     "execution_count": 194,
     "metadata": {},
     "output_type": "execute_result"
    }
   ],
   "source": [
    "X = np.load('tfidf_matrix_97MB/data.npy')\n",
    "y = np.load('train_labels.npy', allow_pickle=True)\n",
    "np.load('tfidf_matrix_97MB/shape.npy')"
   ]
  },
  {
   "cell_type": "code",
   "execution_count": 265,
   "metadata": {},
   "outputs": [
    {
     "name": "stdout",
     "output_type": "stream",
     "text": [
      "[ 1 -1  1  1 -2 -1  1]\n"
     ]
    },
    {
     "name": "stderr",
     "output_type": "stream",
     "text": [
      "/tmp/ipykernel_190346/3630132453.py:7: RuntimeWarning: overflow encountered in exp\n",
      "  sig = 1 / (1 + np.exp(-z))\n",
      "/tmp/ipykernel_190346/3630132453.py:8: RuntimeWarning: overflow encountered in exp\n",
      "  grad_w_0 = -1/n * (y * np.exp(-z) * sig).sum()\n",
      "/tmp/ipykernel_190346/3630132453.py:8: RuntimeWarning: invalid value encountered in multiply\n",
      "  grad_w_0 = -1/n * (y * np.exp(-z) * sig).sum()\n",
      "/tmp/ipykernel_190346/3630132453.py:9: RuntimeWarning: overflow encountered in exp\n",
      "  grad_w = -1/n * (X.T.dot(y * np.exp(-z) * sig)) + rho * w\n",
      "/tmp/ipykernel_190346/3630132453.py:9: RuntimeWarning: invalid value encountered in multiply\n",
      "  grad_w = -1/n * (X.T.dot(y * np.exp(-z) * sig)) + rho * w\n",
      "/tmp/ipykernel_190346/3493810218.py:11: RuntimeWarning: overflow encountered in exp\n",
      "  log_term = np.log(1 + np.exp(y_w0_dot))\n"
     ]
    },
    {
     "data": {
      "text/plain": [
       "nan"
      ]
     },
     "execution_count": 265,
     "metadata": {},
     "output_type": "execute_result"
    }
   ],
   "source": [
    "from scipy.optimize import check_grad\n",
    "rho = 0.5\n",
    "check_grad(f1, grad_f1, w_0, w, X, y, rho)"
   ]
  },
  {
   "attachments": {},
   "cell_type": "markdown",
   "metadata": {},
   "source": [
    "# Question 3.3"
   ]
  },
  {
   "cell_type": "code",
   "execution_count": 248,
   "metadata": {},
   "outputs": [],
   "source": [
    "def newton_logreg_l2_1D(X, y, w, w_0, rho, max_iter=1000, tol=1e-6):\n",
    "    n = len(y)\n",
    "    for i in range(max_iter):\n",
    "        z = y * (X*w + w_0)\n",
    "        sig = 1 / (1 + np.exp(-np.clip(z, -250, 250)))\n",
    "        diag_sig = np.diag(sig * (1 - sig))\n",
    "        gradient_w_0 = -1/n * (y * sig).sum()\n",
    "        gradient_w = -1/n * X.T.dot(y * sig) + rho * w\n",
    "        hessian_w_0_w_0 = 1/n * ((y**2) * sig * (1 - sig)).sum()\n",
    "        hessian_w_0_w = 1/n * (y * X.T.dot(diag_sig))\n",
    "        hessian_w_w_0 = 1/n * (y * X.T.dot(diag_sig))\n",
    "        hessian_w_w = 1/n * X.T.dot(X * diag_sig) + rho * np.eye(1)\n",
    "        hessian = np.array([[hessian_w_0_w_0, hessian_w_0_w[0]], [hessian_w_w_0[0], hessian_w_w[0][0]]])\n",
    "        update_w_0, update_w = np.linalg.solve(hessian, [-gradient_w_0, -gradient_w])\n",
    "        w_0 += update_w_0\n",
    "        w += update_w\n",
    "        if np.linalg.norm(update_w) < tol:\n",
    "            break\n",
    "    return w_0, w\n"
   ]
  },
  {
   "cell_type": "code",
   "execution_count": 249,
   "metadata": {},
   "outputs": [
    {
     "data": {
      "image/png": "[encoded data removed]",
      "text/plain": [
       "<Figure size 640x480 with 1 Axes>"
      ]
     },
     "metadata": {},
     "output_type": "display_data"
    }
   ],
   "source": [
    "#Plot the norm of the gradient as a function of iterations in logarithmic scale\n",
    "import matplotlib.pyplot as plt\n",
    "rho = 0.2\n",
    "w_0 = 0\n",
    "w = 0\n",
    "\n",
    "def plot_norm_grad(X, y, w, w_0, rho, max_iter=1000, tol=1e-6):\n",
    "    n = len(y)\n",
    "    norm_grad = []\n",
    "    for i in range(max_iter):\n",
    "        z = y * (X*w + w_0)\n",
    "        sig = 1 / (1 + np.exp(-np.clip(z, -250, 250)))\n",
    "        diag_sig = np.diag(sig * (1 - sig))\n",
    "        gradient_w_0 = -1/n * (y * sig).sum()\n",
    "        gradient_w = -1/n * X.T.dot(y * sig) + rho * w\n",
    "        hessian_w_0_w_0 = 1/n * ((y**2) * sig * (1 - sig)).sum()\n",
    "        hessian_w_0_w = 1/n * (y * X.T.dot(diag_sig))\n",
    "        hessian_w_w_0 = 1/n * (y * X.T.dot(diag_sig))\n",
    "        hessian_w_w = 1/n * X.T.dot(X * diag_sig) + rho * np.eye(1)\n",
    "        hessian = np.array([[hessian_w_0_w_0, hessian_w_0_w[0]], [hessian_w_w_0[0], hessian_w_w[0][0]]])\n",
    "        update_w_0, update_w = np.linalg.solve(hessian, [-gradient_w_0, -gradient_w])\n",
    "        w_0 += update_w_0\n",
    "        w += update_w\n",
    "        norm_grad.append(np.linalg.norm(gradient_w))\n",
    "        if np.linalg.norm(update_w) < tol:\n",
    "            break\n",
    "    plt.plot(norm_grad)\n",
    "    plt.yscale('log')\n",
    "    plt.show()\n",
    "    return w_0, w\n",
    "\n",
    "w_0, w = plot_norm_grad(X, y, w, w_0, rho)"
   ]
  },
  {
   "attachments": {},
   "cell_type": "markdown",
   "metadata": {},
   "source": [
    "# Question 3.4"
   ]
  },
  {
   "cell_type": "code",
   "execution_count": 254,
   "metadata": {},
   "outputs": [
    {
     "data": {
      "text/plain": [
       "(4.995272819336898e+108, 21.428571428571427)"
      ]
     },
     "execution_count": 254,
     "metadata": {},
     "output_type": "execute_result"
    }
   ],
   "source": [
    "rho = 0.1\n",
    "newton_logreg_l2_1D(X, y, 1, 1, rho, tol = 1e-10)"
   ]
  },
  {
   "attachments": {},
   "cell_type": "markdown",
   "metadata": {},
   "source": [
    "Theoretically, the algorithm should converge to the minimum of the function, since the function is convex and the gradient is Lipschitz continuous. However, if (w0, w) is 1, you may observe that the method is unable to converge to a solution. This is because the initial point is not a good starting point for the optimization problem.The reason is that, Newton's method is a second order optimization method which means that it uses the information of the Hessian matrix in order to converge to a solution. if the initial point is not in a suitable region, the Hessian matrix might be not invertible or close to it, and the optimization algorithm will be unable to converge."
   ]
  },
  {
   "attachments": {},
   "cell_type": "markdown",
   "metadata": {},
   "source": [
    "# Question 3.5"
   ]
  },
  {
   "cell_type": "code",
   "execution_count": 256,
   "metadata": {},
   "outputs": [],
   "source": [
    "def armijo_line_search(x, y, w, w_0, rho, grad, hessian, alpha=0.5, beta=0.5):\n",
    "    step_size = 1\n",
    "    hessian_inv = np.linalg.inv(hessian)\n",
    "    while f1(x, y, w + step_size * hessian_inv.dot(grad)[1], w_0 + step_size * hessian_inv.dot(grad)[0], rho) > f1(x, y, w, w_0, rho) + alpha * step_size * grad.T.dot(hessian_inv).dot(grad):\n",
    "        step_size *= beta\n",
    "    return step_size\n",
    "\n",
    "def newton_logreg_l2(x, y, w, w_0, rho, max_iter=1000, tol=1e-6):\n",
    "    for i in range(max_iter):\n",
    "        grad = grad_f1(x, y, w, w_0, rho)\n",
    "        hessian = hessian_logreg_l2_1D(x, y, w, w_0, rho)\n",
    "        hessian_inv = np.linalg.inv(hessian)\n",
    "        step_size = armijo_line_search(x, y, w, w_0, rho, grad, hessian_inv)\n",
    "        update_w_0, update_w = step_size * hessian_inv.dot(grad)\n",
    "        w_0 += update_w_0\n",
    "        w += update_w\n",
    "        if np.linalg.norm(update_w) < tol:\n",
    "            break\n",
    "    return w_0, w\n"
   ]
  },
  {
   "attachments": {},
   "cell_type": "markdown",
   "metadata": {},
   "source": [
    "Alpha is a parameter that controls the minimum amount of decrease required for the step size to be considered \"sufficient\", it is normally between 0,1 and 0.5. Beta is another parameter that controls the rate at which the step size is reduced, the value is also small, but can be a bit higher."
   ]
  },
  {
   "attachments": {},
   "cell_type": "markdown",
   "metadata": {},
   "source": [
    "# Question 4.1"
   ]
  },
  {
   "attachments": {},
   "cell_type": "markdown",
   "metadata": {},
   "source": [
    "Since the l1 norm does not approach 0 as $w$ approaches its minimum, the Newton's method does not work."
   ]
  },
  {
   "attachments": {},
   "cell_type": "markdown",
   "metadata": {},
   "source": [
    "# Question 4.2"
   ]
  },
  {
   "attachments": {},
   "cell_type": "markdown",
   "metadata": {},
   "source": [
    "The objective function can be written as:\n",
    "\n",
    "$F2(w, w_0) = f2(w, w_0) + g2(w)$\n",
    "\n",
    "where:\n",
    "\n",
    "$f2(w, w_0) = \\frac{1}{n} \\sum_{i=1}^n log(1 + e^{-y_i(x_i^Tw + w_0)})$\n",
    "\n",
    "$g2(w) = \\rho ||w||_1$\n",
    "\n",
    "The proximal operator of g2 is defined as:\n",
    "\n",
    "$prox_{g2}(w, t) = sign(w) * max(|w| - t, 0)$\n",
    "\n",
    "where $sign(w)$ is the element-wise sign of $w$ and $t$ is the step size."
   ]
  },
  {
   "attachments": {},
   "cell_type": "markdown",
   "metadata": {},
   "source": [
    "The gradient of $f_2$ with respect to $w_0$ is:\n",
    "\n",
    "$\\frac{\\partial f_2}{\\partial w_0} = \\frac{1}{n} \\sum_{i=1}^{n} \\frac{-y_i e^{-y_i(x_i^Tw + w_0)}}{1+ e^{-y_i(x_i^Tw + w_0)}}$\n",
    "\n",
    "The gradient of $f_2$ with respect to $w$ is:\n",
    "\n",
    "$\\frac{\\partial f_2}{\\partial w} = \\frac{1}{n} \\sum_{i=1}^{n} \\frac{-y_i x_i e^{-y_i(x_i^Tw + w_0)}}{1+ e^{-y_i(x_i^Tw + w_0)}}$\n",
    "\n",
    "It's important to note that as it is, this is the gradient of the logistic loss function, which is differentiable."
   ]
  },
  {
   "attachments": {},
   "cell_type": "markdown",
   "metadata": {},
   "source": [
    "# Question 4.3"
   ]
  },
  {
   "cell_type": "code",
   "execution_count": 243,
   "metadata": {},
   "outputs": [],
   "source": [
    "def f2(x, y, w, w_0, rho):\n",
    "    return np.log(1 + np.exp(-y * (w_0 + x.dot(w)))).sum() + rho * np.linalg.norm(w)**2"
   ]
  },
  {
   "cell_type": "code",
   "execution_count": 268,
   "metadata": {},
   "outputs": [],
   "source": [
    "def proximal_gradient_method_l1(X, y, rho = 0.02, max_iter = 1000, epsilon = 1e-6):\n",
    "    n, d = X.shape\n",
    "    w = np.zeros(d)\n",
    "    w_0 = 0\n",
    "    alpha = 0.5\n",
    "    beta = 0.8\n",
    "    t = 1\n",
    "    for i in range(max_iter):\n",
    "        z = y * (X.dot(w) + w_0)\n",
    "        sig = 1 / (1 + np.exp(-z))\n",
    "        grad_w_0 = (-1/n) * y.dot(sig)\n",
    "        grad_w = (-1/n) * X.T.dot(y * sig) + rho * np.sign(w)\n",
    "        prev_w = w\n",
    "        prev_w_0 = w_0\n",
    "        w_0 = w_0 - t * grad_w_0\n",
    "        w = w - t * grad_w\n",
    "        w = np.maximum(w - t*rho, 0) + np.minimum(w + t*rho, 0)\n",
    "        while f2(X, y, w, w_0) > f2(X, y, prev_w, prev_w_0) + alpha * t * (grad_w.T.dot(w - prev_w) + grad_w_0 * (w_0 - prev_w_0)):\n",
    "            t = beta * t\n",
    "            w_0 = prev_w_0 - t * grad_w_0\n",
    "            w = prev_w - t * grad_w\n",
    "            w = np.maximum(w - t*rho, 0) + np.minimum(w + t*rho, 0)\n",
    "        if (np.linalg.norm(grad_w) < epsilon) and (np.abs(grad_w_0) < epsilon):\n",
    "            break\n",
    "    return w, w_0\n"
   ]
  },
  {
   "attachments": {},
   "cell_type": "markdown",
   "metadata": {},
   "source": [
    "The stopping test that i suggest is to check if the norm of the gradient is less than a certain tolerance (epsilon). This would mean that the function is close enough to a local minimum and the algorithm can stop.\n",
    "\n"
   ]
  }
 ],
 "metadata": {
  "kernelspec": {
   "display_name": "Python 3",
   "language": "python",
   "name": "python3"
  },
  "language_info": {
   "codemirror_mode": {
    "name": "ipython",
    "version": 3
   },
   "file_extension": ".py",
   "mimetype": "text/x-python",
   "name": "python",
   "nbconvert_exporter": "python",
   "pygments_lexer": "ipython3",
   "version": "3.10.8"
  },
  "orig_nbformat": 4,
  "vscode": {
   "interpreter": {
    "hash": "e7370f93d1d0cde622a1f8e1c04877d8463912d04d973331ad4851f04de6915a"
   }
  }
 },
 "nbformat": 4,
 "nbformat_minor": 2
}
